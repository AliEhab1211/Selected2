{
  "cells": [
    {
      "cell_type": "markdown",
      "metadata": {
        "id": "NQiOlTihFhgB"
      },
      "source": [
        "## Connect to drive"
      ]
    },
    {
      "cell_type": "code",
      "execution_count": 4,
      "metadata": {
        "colab": {
          "base_uri": "https://localhost:8080/"
        },
        "id": "axLYRKIoiVp-",
        "outputId": "c05bfcaf-94f9-4527-ca99-4bca325c74ae"
      },
      "outputs": [
        {
          "output_type": "stream",
          "name": "stdout",
          "text": [
            "Mounted at /gdrive\n",
            "/gdrive\n"
          ]
        }
      ],
      "source": [
        "from google.colab import drive\n",
        "drive.mount('/gdrive')\n",
        "%cd /gdrive"
      ]
    },
    {
      "cell_type": "markdown",
      "metadata": {
        "id": "HIiKYilvFkgQ"
      },
      "source": [
        "## libraries"
      ]
    },
    {
      "cell_type": "code",
      "execution_count": 1,
      "metadata": {
        "id": "XHHEJIVNffmD"
      },
      "outputs": [],
      "source": [
        "import numpy as np\n",
        "import pandas as pd\n",
        "import os\n",
        "import seaborn as sns\n",
        "import cv2\n",
        "from PIL import Image\n",
        "import glob as gb\n",
        "from tensorflow.keras import models\n",
        "from sklearn.model_selection import train_test_split\n",
        "from keras.utils import np_utils\n",
        "import matplotlib.pyplot as plt\n",
        "from tensorflow.keras.layers import Conv2D, MaxPool2D, Dense, Flatten, Input, BatchNormalization, Dropout\n",
        "import tensorflow as tf\n",
        "from sklearn.metrics import classification_report, confusion_matrix, precision_score, recall_score\n",
        "sns.set(rc={'figure.figsize':(15,10)})"
      ]
    },
    {
      "cell_type": "markdown",
      "metadata": {
        "id": "yrt3vfggE7P3"
      },
      "source": [
        "## get data from drive and append into list"
      ]
    },
    {
      "cell_type": "code",
      "execution_count": 5,
      "metadata": {
        "id": "oMdUC2km5E77"
      },
      "outputs": [],
      "source": [
        "x = []\n",
        "y = []"
      ]
    },
    {
      "cell_type": "code",
      "execution_count": 6,
      "metadata": {
        "colab": {
          "base_uri": "https://localhost:8080/"
        },
        "id": "kXgEUm4fffmJ",
        "outputId": "521596f6-8d55-435a-8b24-6519cc0f5314"
      },
      "outputs": [
        {
          "output_type": "stream",
          "name": "stdout",
          "text": [
            "scissors\n",
            "paper\n",
            "rock\n"
          ]
        }
      ],
      "source": [
        "class_label = 0\n",
        "test = '/gdrive/My Drive/Rock-Paper-Scissors new/train/'\n",
        "for folder in os.listdir(test):\n",
        "    print(folder)\n",
        "    files = gb.glob(pathname=str(test + folder + '/*.png'))\n",
        "    # print(files)\n",
        "    for image in files:\n",
        "        # print(image)\n",
        "        im = Image.open(image)\n",
        "        data = np.array(im)\n",
        "        data = data[:,:,0]\n",
        "        image_array = cv2.resize(data , (227,227))\n",
        "        x.append(list(image_array))\n",
        "        y.append(class_label)\n",
        "    class_label = class_label + 1"
      ]
    },
    {
      "cell_type": "code",
      "execution_count": 7,
      "metadata": {
        "colab": {
          "base_uri": "https://localhost:8080/"
        },
        "id": "8wxCWxljffmL",
        "outputId": "1dc31536-81fc-4a6c-8d82-444e6397777d"
      },
      "outputs": [
        {
          "output_type": "stream",
          "name": "stdout",
          "text": [
            "paper\n",
            "rock\n",
            "scissors\n"
          ]
        }
      ],
      "source": [
        "class_label = 0\n",
        "test = \"/gdrive/My Drive/Rock-Paper-Scissors new/test/\"\n",
        "for folder in  os.listdir(test):\n",
        "    print(folder)\n",
        "    files = gb.glob(pathname=str( test + folder + '/*.png'))\n",
        "    # print(files)\n",
        "    for image in files:\n",
        "        # print(image)\n",
        "        im = Image.open(image)\n",
        "        data = np.array(im)\n",
        "        data = data[:,:,0]\n",
        "        image_array = cv2.resize(data , (227,227))\n",
        "        x.append(list(image_array))\n",
        "        y.append(class_label)\n",
        "    class_label = class_label + 1"
      ]
    },
    {
      "cell_type": "markdown",
      "metadata": {
        "id": "qduAlZwKF0_J"
      },
      "source": [
        "## Convert to numpy array"
      ]
    },
    {
      "cell_type": "code",
      "execution_count": 8,
      "metadata": {
        "colab": {
          "base_uri": "https://localhost:8080/"
        },
        "id": "Qn9RTscPGfQa",
        "outputId": "78d204aa-b3a1-4f01-c971-3e1ef856f239"
      },
      "outputs": [
        {
          "output_type": "stream",
          "name": "stdout",
          "text": [
            "(2892, 227, 227)\n",
            "(2892,)\n"
          ]
        }
      ],
      "source": [
        "x = np.array(x)\n",
        "y = np.array(y)\n",
        "print(x.shape)\n",
        "print(y.shape)"
      ]
    },
    {
      "cell_type": "markdown",
      "metadata": {
        "id": "oI3DRtZwF3ZJ"
      },
      "source": [
        "# Scale"
      ]
    },
    {
      "cell_type": "code",
      "execution_count": 9,
      "metadata": {
        "id": "22WlwmdvffmN"
      },
      "outputs": [],
      "source": [
        "x = x/255"
      ]
    },
    {
      "cell_type": "code",
      "execution_count": 10,
      "metadata": {
        "colab": {
          "base_uri": "https://localhost:8080/"
        },
        "id": "Ymo4eCHPA6eP",
        "outputId": "ad57bd34-b9c8-441e-e03c-25dad0d20dbb"
      },
      "outputs": [
        {
          "output_type": "execute_result",
          "data": {
            "text/plain": [
              "array([0, 0, 0, ..., 2, 2, 2])"
            ]
          },
          "metadata": {},
          "execution_count": 10
        }
      ],
      "source": [
        "y"
      ]
    },
    {
      "cell_type": "markdown",
      "metadata": {
        "id": "fagCWCUkF7EY"
      },
      "source": [
        "## Split data"
      ]
    },
    {
      "cell_type": "code",
      "execution_count": 11,
      "metadata": {
        "id": "HJ_k1eQO7qJL"
      },
      "outputs": [],
      "source": [
        "x_train, xtest, y_train, ytest = train_test_split(x, y, test_size=0.3, random_state=42, stratify=y)"
      ]
    },
    {
      "cell_type": "markdown",
      "metadata": {
        "id": "0F0qldY6F9Zx"
      },
      "source": [
        "# apply dummy to y_train "
      ]
    },
    {
      "cell_type": "code",
      "execution_count": 12,
      "metadata": {
        "id": "g-OHboeF-cmM"
      },
      "outputs": [],
      "source": [
        "y_train = np_utils.to_categorical(y_train)"
      ]
    },
    {
      "cell_type": "code",
      "execution_count": 13,
      "metadata": {
        "colab": {
          "base_uri": "https://localhost:8080/"
        },
        "id": "XL9lzxZf-pGU",
        "outputId": "c8cf2896-8423-464a-9bee-f7bbefb81ab7"
      },
      "outputs": [
        {
          "output_type": "execute_result",
          "data": {
            "text/plain": [
              "array([[1., 0., 0.],\n",
              "       [0., 1., 0.],\n",
              "       [1., 0., 0.],\n",
              "       ...,\n",
              "       [0., 1., 0.],\n",
              "       [0., 0., 1.],\n",
              "       [1., 0., 0.]], dtype=float32)"
            ]
          },
          "metadata": {},
          "execution_count": 13
        }
      ],
      "source": [
        "y_train"
      ]
    },
    {
      "cell_type": "markdown",
      "metadata": {
        "id": "HZqU1QBWGD3f"
      },
      "source": [
        "## Model architecture"
      ]
    },
    {
      "cell_type": "code",
      "execution_count": 16,
      "metadata": {
        "id": "ZausHvGsIT0v",
        "colab": {
          "base_uri": "https://localhost:8080/"
        },
        "outputId": "bb396a52-e7be-44c2-c8ab-2104bf653058"
      },
      "outputs": [
        {
          "output_type": "stream",
          "name": "stdout",
          "text": [
            "Model: \"sequential_2\"\n",
            "_________________________________________________________________\n",
            " Layer (type)                Output Shape              Param #   \n",
            "=================================================================\n",
            " conv2d_4 (Conv2D)           (None, 227, 227, 64)      1664      \n",
            "                                                                 \n",
            " batch_normalization_4 (Batc  (None, 227, 227, 64)     256       \n",
            " hNormalization)                                                 \n",
            "                                                                 \n",
            " max_pooling2d_4 (MaxPooling  (None, 113, 113, 64)     0         \n",
            " 2D)                                                             \n",
            "                                                                 \n",
            " conv2d_5 (Conv2D)           (None, 113, 113, 64)      102464    \n",
            "                                                                 \n",
            " batch_normalization_5 (Batc  (None, 113, 113, 64)     256       \n",
            " hNormalization)                                                 \n",
            "                                                                 \n",
            " max_pooling2d_5 (MaxPooling  (None, 56, 56, 64)       0         \n",
            " 2D)                                                             \n",
            "                                                                 \n",
            " flatten_2 (Flatten)         (None, 200704)            0         \n",
            "                                                                 \n",
            " dense_2 (Dense)             (None, 1228)              246465740 \n",
            "                                                                 \n",
            " dense_3 (Dense)             (None, 384)               471936    \n",
            "                                                                 \n",
            " dropout_2 (Dropout)         (None, 384)               0         \n",
            "                                                                 \n",
            " dense_4 (Dense)             (None, 192)               73920     \n",
            "                                                                 \n",
            " dense_5 (Dense)             (None, 3)                 579       \n",
            "                                                                 \n",
            "=================================================================\n",
            "Total params: 247,116,815\n",
            "Trainable params: 247,116,559\n",
            "Non-trainable params: 256\n",
            "_________________________________________________________________\n"
          ]
        }
      ],
      "source": [
        "model = models.Sequential()\n",
        "\n",
        "model.add(Input(shape=(227, 227, 1)))\n",
        "\n",
        "model.add(Conv2D(64, (5, 5), activation='relu', padding='same'))\n",
        "model.add(BatchNormalization())\n",
        "model.add(MaxPool2D(pool_size=(3, 3),strides=(2,2)))\n",
        "\n",
        "model.add(Conv2D(64, (5, 5), activation='relu', padding='same'))\n",
        "model.add(BatchNormalization())\n",
        "model.add(MaxPool2D(pool_size=(3, 3),strides=(2,2)))\n",
        "\n",
        "model.add(Flatten())\n",
        "model.add(Dense(1228, activation='relu'))\n",
        "model.add(Dense(384, activation='relu'))\n",
        "model.add(Dropout(0.5))\n",
        "model.add(Dense(192, activation='relu'))\n",
        "model.add(Dense(3, activation = \"softmax\"))\n",
        "optimizer = tf.keras.optimizers.Adam(learning_rate=0.0003)\n",
        "\n",
        "model.summary()\n",
        "\n",
        "model.compile(optimizer = optimizer, loss = \"categorical_crossentropy\", metrics=[\"accuracy\"])"
      ]
    },
    {
      "cell_type": "code",
      "execution_count": 17,
      "metadata": {
        "colab": {
          "base_uri": "https://localhost:8080/"
        },
        "id": "-7utjfo3Jg5p",
        "outputId": "ae29c9bf-94cb-41f1-e1d1-ff0e20f1854b"
      },
      "outputs": [
        {
          "output_type": "stream",
          "name": "stdout",
          "text": [
            "Epoch 1/30\n",
            "203/203 [==============================] - 31s 94ms/step - loss: 11.5476 - accuracy: 0.5894\n",
            "Epoch 2/30\n",
            "203/203 [==============================] - 19s 93ms/step - loss: 2.5548 - accuracy: 0.8389\n",
            "Epoch 3/30\n",
            "203/203 [==============================] - 19s 94ms/step - loss: 1.0660 - accuracy: 0.9214\n",
            "Epoch 4/30\n",
            "203/203 [==============================] - 20s 96ms/step - loss: 0.4905 - accuracy: 0.9585\n",
            "Epoch 5/30\n",
            "203/203 [==============================] - 19s 96ms/step - loss: 0.5030 - accuracy: 0.9629\n",
            "Epoch 6/30\n",
            "203/203 [==============================] - 19s 95ms/step - loss: 0.1377 - accuracy: 0.9778\n",
            "Epoch 7/30\n",
            "203/203 [==============================] - 19s 94ms/step - loss: 0.0826 - accuracy: 0.9881\n",
            "Epoch 8/30\n",
            "203/203 [==============================] - 19s 95ms/step - loss: 0.3761 - accuracy: 0.9773\n",
            "Epoch 9/30\n",
            "203/203 [==============================] - 19s 95ms/step - loss: 0.1593 - accuracy: 0.9872\n",
            "Epoch 10/30\n",
            "203/203 [==============================] - 19s 95ms/step - loss: 0.1661 - accuracy: 0.9872\n",
            "Epoch 11/30\n",
            "203/203 [==============================] - 19s 95ms/step - loss: 0.0308 - accuracy: 0.9936\n",
            "Epoch 12/30\n",
            "203/203 [==============================] - 19s 95ms/step - loss: 0.1129 - accuracy: 0.9896\n",
            "Epoch 13/30\n",
            "203/203 [==============================] - 19s 95ms/step - loss: 0.2441 - accuracy: 0.9857\n",
            "Epoch 14/30\n",
            "203/203 [==============================] - 19s 95ms/step - loss: 0.5872 - accuracy: 0.9738\n",
            "Epoch 15/30\n",
            "203/203 [==============================] - 19s 95ms/step - loss: 0.1378 - accuracy: 0.9921\n",
            "Epoch 16/30\n",
            "203/203 [==============================] - 19s 95ms/step - loss: 0.1089 - accuracy: 0.9956\n",
            "Epoch 17/30\n",
            "203/203 [==============================] - 19s 95ms/step - loss: 0.0725 - accuracy: 0.9951\n",
            "Epoch 18/30\n",
            "203/203 [==============================] - 19s 94ms/step - loss: 0.2643 - accuracy: 0.9891\n",
            "Epoch 19/30\n",
            "203/203 [==============================] - 19s 95ms/step - loss: 0.1749 - accuracy: 0.9886\n",
            "Epoch 20/30\n",
            "203/203 [==============================] - 19s 94ms/step - loss: 0.1170 - accuracy: 0.9931\n",
            "Epoch 21/30\n",
            "203/203 [==============================] - 19s 94ms/step - loss: 0.0855 - accuracy: 0.9970\n",
            "Epoch 22/30\n",
            "203/203 [==============================] - 19s 94ms/step - loss: 0.1082 - accuracy: 0.9975\n",
            "Epoch 23/30\n",
            "203/203 [==============================] - 19s 94ms/step - loss: 0.3382 - accuracy: 0.9896\n",
            "Epoch 24/30\n",
            "203/203 [==============================] - 19s 94ms/step - loss: 0.2382 - accuracy: 0.9906\n",
            "Epoch 25/30\n",
            "203/203 [==============================] - 19s 94ms/step - loss: 0.1217 - accuracy: 0.9970\n",
            "Epoch 26/30\n",
            "203/203 [==============================] - 19s 94ms/step - loss: 0.0131 - accuracy: 0.9990\n",
            "Epoch 27/30\n",
            "203/203 [==============================] - 19s 95ms/step - loss: 0.2495 - accuracy: 0.9985\n",
            "Epoch 28/30\n",
            "203/203 [==============================] - 19s 94ms/step - loss: 0.1183 - accuracy: 0.9946\n",
            "Epoch 29/30\n",
            "203/203 [==============================] - 19s 94ms/step - loss: 0.0922 - accuracy: 0.9956\n",
            "Epoch 30/30\n",
            "203/203 [==============================] - 19s 94ms/step - loss: 0.3547 - accuracy: 0.9936\n"
          ]
        }
      ],
      "source": [
        "history = model.fit(x_train,y_train, batch_size= 10, epochs = 30)"
      ]
    },
    {
      "cell_type": "markdown",
      "metadata": {
        "id": "p6705Hq2GOsB"
      },
      "source": [
        "# Evaluate data"
      ]
    },
    {
      "cell_type": "markdown",
      "metadata": {
        "id": "St_1QSHkG5bJ"
      },
      "source": [
        "## loss and accuracy plot"
      ]
    },
    {
      "cell_type": "code",
      "execution_count": 18,
      "metadata": {
        "colab": {
          "base_uri": "https://localhost:8080/",
          "height": 268
        },
        "id": "VYy_rJkDsLxF",
        "outputId": "543c0c72-dc95-45e9-8b1b-e15644b3d49a"
      },
      "outputs": [
        {
          "output_type": "display_data",
          "data": {
            "text/plain": [
              "<Figure size 432x288 with 1 Axes>"
            ],
            "image/png": "[encoded data removed]"
          },
          "metadata": {
            "needs_background": "light"
          }
        }
      ],
      "source": [
        "#plot the accuracy\n",
        "history_df = pd.DataFrame(history.history)\n",
        "plt.plot(history_df['accuracy'], label='accuracy')\n",
        "plt.legend();"
      ]
    },
    {
      "cell_type": "code",
      "execution_count": 19,
      "metadata": {
        "colab": {
          "base_uri": "https://localhost:8080/",
          "height": 287
        },
        "id": "pZKd4FQpsVfd",
        "outputId": "42c4a23c-315d-49f5-e631-33a939399d18"
      },
      "outputs": [
        {
          "output_type": "execute_result",
          "data": {
            "text/plain": [
              "<matplotlib.legend.Legend at 0x7f955f7595d0>"
            ]
          },
          "metadata": {},
          "execution_count": 19
        },
        {
          "output_type": "display_data",
          "data": {
            "text/plain": [
              "<Figure size 432x288 with 1 Axes>"
            ],
            "image/png": "[encoded data removed]"
          },
          "metadata": {
            "needs_background": "light"
          }
        }
      ],
      "source": [
        "#plot the loss\n",
        "history_df = pd.DataFrame(history.history)\n",
        "plt.plot(history_df['loss'], label='loss')\n",
        "plt.legend()"
      ]
    },
    {
      "cell_type": "markdown",
      "metadata": {
        "id": "e4doVdigG8en"
      },
      "source": [
        "## Check evalute in train and test data"
      ]
    },
    {
      "cell_type": "code",
      "execution_count": 20,
      "metadata": {
        "colab": {
          "base_uri": "https://localhost:8080/"
        },
        "id": "XdER98egBIHY",
        "outputId": "8f87997c-d1a3-43a2-82c1-8b0f76a70dff"
      },
      "outputs": [
        {
          "output_type": "stream",
          "name": "stdout",
          "text": [
            "64/64 [==============================] - 4s 46ms/step - loss: 14.1904 - accuracy: 0.8458\n",
            "Train\n",
            "loss : 14.190390586853027\n",
            "acc : 84.58498120307922\n"
          ]
        }
      ],
      "source": [
        "# Train\n",
        "loss, acc = model.evaluate(x_train, y_train)\n",
        "print('Train')\n",
        "print(f'loss : {loss}')\n",
        "print(f'acc : {acc*100}')"
      ]
    },
    {
      "cell_type": "code",
      "execution_count": 21,
      "metadata": {
        "colab": {
          "base_uri": "https://localhost:8080/"
        },
        "id": "ijtmayLW7AoE",
        "outputId": "dc307461-7441-4f51-a95a-81bded15033d"
      },
      "outputs": [
        {
          "output_type": "stream",
          "name": "stdout",
          "text": [
            "28/28 [==============================] - 1s 47ms/step - loss: 17.7215 - accuracy: 0.7995\n",
            "Test\n",
            "loss : 17.721473693847656\n",
            "acc : 79.95391488075256\n"
          ]
        }
      ],
      "source": [
        "# Test\n",
        "loss, acc = model.evaluate(xtest, np_utils.to_categorical(ytest))\n",
        "print('Test')\n",
        "print(f'loss : {loss}')\n",
        "print(f'acc : {acc*100}')"
      ]
    },
    {
      "cell_type": "code",
      "execution_count": 22,
      "metadata": {
        "colab": {
          "base_uri": "https://localhost:8080/"
        },
        "id": "uhyXplGH7l3B",
        "outputId": "6d73f0b7-df1f-4420-e891-9cd44a353b49"
      },
      "outputs": [
        {
          "output_type": "execute_result",
          "data": {
            "text/plain": [
              "array([[0.0000000e+00, 1.0000000e+00, 0.0000000e+00],\n",
              "       [1.0000000e+00, 0.0000000e+00, 0.0000000e+00],\n",
              "       [1.0000000e+00, 0.0000000e+00, 0.0000000e+00],\n",
              "       ...,\n",
              "       [0.0000000e+00, 1.0000000e+00, 9.1388403e-27],\n",
              "       [0.0000000e+00, 2.5106389e-20, 1.0000000e+00],\n",
              "       [1.0000000e+00, 0.0000000e+00, 0.0000000e+00]], dtype=float32)"
            ]
          },
          "metadata": {},
          "execution_count": 22
        }
      ],
      "source": [
        "pred = model.predict(xtest)\n",
        "pred"
      ]
    },
    {
      "cell_type": "code",
      "execution_count": 23,
      "metadata": {
        "colab": {
          "base_uri": "https://localhost:8080/"
        },
        "id": "7tvy-pVT7s03",
        "outputId": "79de8eb3-3d09-455a-da7f-34508896a73b"
      },
      "outputs": [
        {
          "output_type": "execute_result",
          "data": {
            "text/plain": [
              "array([1, 0, 0, 0, 0, 1, 1, 1, 1, 1, 0, 1, 1, 1, 1, 1, 1, 2, 1, 1, 1, 2,\n",
              "       0, 1, 1, 1, 2, 0, 2, 2, 0, 1, 1, 1, 2, 2, 2, 1, 1, 0, 1, 1, 0, 0,\n",
              "       1, 1, 0, 1, 1, 2, 1, 0, 1, 1, 1, 0, 2, 0, 1, 1, 1, 2, 1, 0, 1, 2,\n",
              "       1, 1, 2, 0, 1, 1, 1, 1, 0, 2, 1, 2, 1, 1, 1, 1, 1, 2, 1, 2, 1, 1,\n",
              "       1, 1, 1, 1, 0, 2, 1, 1, 1, 0, 2, 2, 2, 2, 1, 2, 0, 1, 1, 1, 1, 1,\n",
              "       1, 1, 0, 1, 0, 2, 2, 2, 1, 2, 1, 0, 1, 0, 1, 1, 1, 1, 1, 2, 2, 2,\n",
              "       2, 1, 1, 0, 2, 2, 1, 2, 1, 1, 1, 0, 1, 1, 0, 1, 0, 2, 1, 1, 0, 2,\n",
              "       2, 1, 1, 0, 0, 0, 2, 1, 0, 1, 1, 2, 1, 1, 2, 1, 1, 1, 0, 2, 1, 1,\n",
              "       0, 1, 1, 0, 1, 1, 2, 1, 1, 2, 2, 1, 1, 1, 1, 1, 0, 1, 1, 2, 1, 1,\n",
              "       0, 1, 0, 0, 2, 1, 1, 1, 1, 1, 0, 2, 1, 2, 1, 2, 1, 2, 1, 1, 2, 0,\n",
              "       0, 0, 1, 2, 0, 1, 2, 2, 0, 1, 1, 1, 1, 1, 1, 1, 2, 1, 1, 1, 2, 2,\n",
              "       2, 2, 2, 1, 0, 2, 1, 2, 2, 2, 1, 1, 2, 1, 2, 0, 2, 1, 2, 2, 1, 1,\n",
              "       1, 1, 1, 1, 1, 2, 2, 2, 0, 1, 1, 1, 0, 0, 1, 1, 2, 1, 1, 1, 2, 2,\n",
              "       1, 1, 1, 2, 0, 2, 2, 2, 2, 2, 1, 1, 2, 1, 1, 1, 1, 1, 1, 2, 1, 1,\n",
              "       1, 2, 0, 2, 0, 1, 2, 1, 2, 2, 0, 2, 2, 1, 1, 2, 0, 1, 0, 2, 0, 1,\n",
              "       1, 1, 2, 2, 1, 1, 2, 1, 1, 1, 1, 2, 1, 2, 2, 1, 1, 0, 1, 0, 1, 1,\n",
              "       1, 1, 2, 2, 1, 2, 1, 1, 1, 1, 0, 0, 1, 1, 0, 0, 1, 2, 2, 1, 2, 1,\n",
              "       0, 1, 1, 1, 2, 1, 2, 2, 0, 2, 1, 0, 0, 2, 1, 2, 0, 1, 1, 1, 1, 1,\n",
              "       2, 0, 1, 1, 0, 0, 1, 0, 1, 0, 2, 1, 2, 2, 1, 0, 1, 2, 2, 0, 2, 1,\n",
              "       1, 2, 1, 2, 0, 2, 1, 2, 1, 1, 0, 0, 1, 1, 1, 0, 1, 1, 2, 1, 2, 1,\n",
              "       1, 1, 0, 2, 2, 2, 1, 1, 1, 1, 1, 2, 1, 1, 2, 1, 0, 0, 2, 2, 0, 1,\n",
              "       2, 2, 1, 1, 1, 2, 1, 1, 1, 1, 1, 2, 1, 2, 2, 1, 1, 0, 1, 1, 1, 1,\n",
              "       0, 0, 2, 1, 1, 2, 2, 2, 0, 1, 1, 2, 2, 1, 1, 0, 1, 2, 2, 2, 1, 2,\n",
              "       0, 0, 2, 0, 1, 1, 0, 0, 2, 2, 2, 1, 1, 1, 1, 1, 1, 1, 0, 1, 1, 0,\n",
              "       1, 1, 1, 2, 0, 2, 1, 1, 1, 0, 2, 1, 2, 1, 2, 1, 2, 1, 1, 1, 2, 1,\n",
              "       2, 1, 2, 1, 0, 0, 2, 1, 0, 0, 0, 2, 1, 2, 1, 1, 1, 0, 2, 1, 0, 1,\n",
              "       1, 2, 0, 2, 2, 1, 1, 1, 1, 1, 2, 2, 2, 1, 1, 1, 1, 1, 2, 2, 1, 2,\n",
              "       1, 1, 2, 1, 1, 0, 1, 0, 2, 1, 2, 2, 2, 2, 1, 0, 2, 0, 0, 1, 2, 1,\n",
              "       1, 2, 1, 1, 2, 1, 1, 1, 1, 1, 2, 2, 0, 2, 0, 1, 1, 2, 2, 1, 2, 1,\n",
              "       1, 1, 1, 1, 2, 0, 1, 1, 2, 0, 0, 1, 0, 1, 1, 1, 1, 2, 2, 1, 1, 2,\n",
              "       1, 1, 2, 1, 2, 0, 0, 2, 1, 1, 1, 0, 0, 1, 1, 1, 0, 0, 0, 2, 2, 2,\n",
              "       2, 1, 0, 2, 1, 1, 1, 0, 1, 1, 0, 2, 2, 2, 1, 2, 1, 1, 2, 0, 0, 2,\n",
              "       1, 0, 1, 0, 1, 0, 2, 2, 1, 0, 1, 1, 1, 1, 0, 1, 1, 0, 2, 0, 0, 2,\n",
              "       1, 1, 0, 1, 2, 1, 1, 2, 1, 1, 2, 2, 0, 1, 0, 2, 0, 2, 1, 2, 1, 0,\n",
              "       0, 1, 1, 1, 1, 1, 0, 1, 0, 1, 2, 1, 0, 1, 1, 1, 1, 0, 1, 1, 1, 1,\n",
              "       0, 1, 2, 1, 0, 0, 1, 2, 2, 1, 0, 1, 0, 2, 0, 1, 1, 1, 0, 1, 1, 0,\n",
              "       2, 2, 2, 0, 0, 2, 1, 1, 1, 0, 2, 0, 2, 1, 1, 0, 0, 1, 2, 1, 1, 1,\n",
              "       1, 0, 2, 1, 2, 1, 0, 1, 2, 2, 0, 0, 2, 2, 0, 2, 1, 1, 2, 0, 0, 0,\n",
              "       1, 0, 0, 0, 0, 0, 0, 0, 1, 2, 2, 0, 2, 2, 1, 2, 2, 1, 0, 1, 2, 0,\n",
              "       2, 2, 1, 1, 2, 2, 2, 1, 2, 0])"
            ]
          },
          "metadata": {},
          "execution_count": 23
        }
      ],
      "source": [
        "prediction = np.argmax(pred, axis=-1)\n",
        "prediction"
      ]
    },
    {
      "cell_type": "markdown",
      "metadata": {
        "id": "SiS4FbWeGkTa"
      },
      "source": [
        "## Confusion matrix"
      ]
    },
    {
      "cell_type": "code",
      "execution_count": 24,
      "metadata": {
        "colab": {
          "base_uri": "https://localhost:8080/",
          "height": 268
        },
        "id": "O_Zb3bZy9NJV",
        "outputId": "4dcf1c49-2585-4cd1-ee8c-06b45b6b59cd"
      },
      "outputs": [
        {
          "output_type": "display_data",
          "data": {
            "text/plain": [
              "<Figure size 432x288 with 2 Axes>"
            ],
            "image/png": "[encoded data removed]"
          },
          "metadata": {
            "needs_background": "light"
          }
        }
      ],
      "source": [
        "sns.heatmap(confusion_matrix(prediction, ytest), annot=True, fmt='1', cmap='Blues');"
      ]
    },
    {
      "cell_type": "markdown",
      "metadata": {
        "id": "RnX6TImZGzVS"
      },
      "source": [
        "## Recall and Precision"
      ]
    },
    {
      "cell_type": "code",
      "execution_count": 25,
      "metadata": {
        "colab": {
          "base_uri": "https://localhost:8080/"
        },
        "id": "8AeVuhFEEnr8",
        "outputId": "17cd632d-778a-44a1-b163-3d1fabb4fa15"
      },
      "outputs": [
        {
          "output_type": "stream",
          "name": "stdout",
          "text": [
            "Model Recall score  : 0.7995\n",
            "Model Precision  : 0.8566\n"
          ]
        }
      ],
      "source": [
        "print('Model Recall score  : {0:0.4f}'. format(recall_score(ytest, prediction,average='weighted')))\n",
        "print('Model Precision  : {0:0.4f}'. format(precision_score(ytest, prediction,average='weighted')))"
      ]
    },
    {
      "cell_type": "code",
      "execution_count": 26,
      "metadata": {
        "colab": {
          "base_uri": "https://localhost:8080/"
        },
        "id": "8iYxQEnJ8wX3",
        "outputId": "b0cf8cb8-c9d0-4f51-9e2d-3d191637cb29"
      },
      "outputs": [
        {
          "output_type": "stream",
          "name": "stdout",
          "text": [
            "              precision    recall  f1-score   support\n",
            "\n",
            "           0       0.98      0.61      0.75       289\n",
            "           1       0.64      0.96      0.76       289\n",
            "           2       0.96      0.83      0.89       290\n",
            "\n",
            "    accuracy                           0.80       868\n",
            "   macro avg       0.86      0.80      0.80       868\n",
            "weighted avg       0.86      0.80      0.80       868\n",
            "\n"
          ]
        }
      ],
      "source": [
        "print(classification_report(ytest,prediction))"
      ]
    }
  ],
  "metadata": {
    "accelerator": "GPU",
    "colab": {
      "collapsed_sections": [],
      "name": "Selected2 paper model on Rock-Paper-Scissors .ipynb",
      "provenance": []
    },
    "interpreter": {
      "hash": "4ac99a89178b347d2ddb51d1067ae4321247bd0ad96f9f2868f86d66c397a5fc"
    },
    "kernelspec": {
      "display_name": "Python 3.10.2 64-bit",
      "language": "python",
      "name": "python3"
    },
    "language_info": {
      "codemirror_mode": {
        "name": "ipython",
        "version": 3
      },
      "file_extension": ".py",
      "mimetype": "text/x-python",
      "name": "python",
      "nbconvert_exporter": "python",
      "pygments_lexer": "ipython3",
      "version": "3.10.2"
    },
    "orig_nbformat": 4
  },
  "nbformat": 4,
  "nbformat_minor": 0
}